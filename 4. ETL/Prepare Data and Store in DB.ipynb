{
 "cells": [
  {
   "cell_type": "markdown",
   "id": "603e3f26-4b1c-4719-bb97-b06b8ad8824f",
   "metadata": {},
   "source": [
    "# Prepare Data"
   ]
  },
  {
   "cell_type": "code",
   "execution_count": 9,
   "id": "3bec6ecd-213d-4066-9442-17e11c3f7679",
   "metadata": {},
   "outputs": [],
   "source": [
    "import pandas as pd"
   ]
  },
  {
   "cell_type": "code",
   "execution_count": 10,
   "id": "839c6435-73c6-45b3-8a86-2e02e9638a18",
   "metadata": {},
   "outputs": [
    {
     "data": {
      "text/html": [
       "<div>\n",
       "<style scoped>\n",
       "    .dataframe tbody tr th:only-of-type {\n",
       "        vertical-align: middle;\n",
       "    }\n",
       "\n",
       "    .dataframe tbody tr th {\n",
       "        vertical-align: top;\n",
       "    }\n",
       "\n",
       "    .dataframe thead th {\n",
       "        text-align: right;\n",
       "    }\n",
       "</style>\n",
       "<table border=\"1\" class=\"dataframe\">\n",
       "  <thead>\n",
       "    <tr style=\"text-align: right;\">\n",
       "      <th></th>\n",
       "      <th>origin_warehouse</th>\n",
       "      <th>destination_store</th>\n",
       "      <th>product</th>\n",
       "      <th>on_time</th>\n",
       "      <th>product_quantity</th>\n",
       "      <th>driver_identifier</th>\n",
       "    </tr>\n",
       "  </thead>\n",
       "  <tbody>\n",
       "    <tr>\n",
       "      <th>0</th>\n",
       "      <td>d5566b15-b071-4acf-8e8e-c98433083b2d</td>\n",
       "      <td>50d33715-4c77-4dd9-8b9d-ff1ca372a2a2</td>\n",
       "      <td>lotion</td>\n",
       "      <td>True</td>\n",
       "      <td>59</td>\n",
       "      <td>d8da0460-cf39-4f38-9fff-6c9b4e344d8a</td>\n",
       "    </tr>\n",
       "    <tr>\n",
       "      <th>1</th>\n",
       "      <td>c42f0de8-b4f0-4167-abd1-ae79e5e18eea</td>\n",
       "      <td>172eb8f3-1033-4fb6-b66b-d0df09df3161</td>\n",
       "      <td>windows</td>\n",
       "      <td>True</td>\n",
       "      <td>28</td>\n",
       "      <td>293ccaec-6592-4f04-aae5-3e238fe62614</td>\n",
       "    </tr>\n",
       "    <tr>\n",
       "      <th>2</th>\n",
       "      <td>b145f396-de9b-42f1-9cc9-f5b52c3a941c</td>\n",
       "      <td>65e4544d-42ae-4751-9580-bdcb90e5fcda</td>\n",
       "      <td>skis</td>\n",
       "      <td>True</td>\n",
       "      <td>63</td>\n",
       "      <td>80988f09-91a3-4e1b-8e69-13551c53f318</td>\n",
       "    </tr>\n",
       "    <tr>\n",
       "      <th>3</th>\n",
       "      <td>f4372224-759f-43b3-bc83-ca6106bba1af</td>\n",
       "      <td>745bee4e-710c-4538-8df1-5c146e1092a6</td>\n",
       "      <td>bikes</td>\n",
       "      <td>True</td>\n",
       "      <td>47</td>\n",
       "      <td>5f79b402-655f-4d8e-8ff3-5ef05870e0ad</td>\n",
       "    </tr>\n",
       "    <tr>\n",
       "      <th>4</th>\n",
       "      <td>49d0edae-9091-41bb-a08d-ab1c66bd08d5</td>\n",
       "      <td>425b7a1a-b744-4c6b-898e-d424dd8cf18e</td>\n",
       "      <td>candy</td>\n",
       "      <td>False</td>\n",
       "      <td>73</td>\n",
       "      <td>58beb5d3-98f8-4077-a964-1f04f7cb11e5</td>\n",
       "    </tr>\n",
       "  </tbody>\n",
       "</table>\n",
       "</div>"
      ],
      "text/plain": [
       "                       origin_warehouse                     destination_store  \\\n",
       "0  d5566b15-b071-4acf-8e8e-c98433083b2d  50d33715-4c77-4dd9-8b9d-ff1ca372a2a2   \n",
       "1  c42f0de8-b4f0-4167-abd1-ae79e5e18eea  172eb8f3-1033-4fb6-b66b-d0df09df3161   \n",
       "2  b145f396-de9b-42f1-9cc9-f5b52c3a941c  65e4544d-42ae-4751-9580-bdcb90e5fcda   \n",
       "3  f4372224-759f-43b3-bc83-ca6106bba1af  745bee4e-710c-4538-8df1-5c146e1092a6   \n",
       "4  49d0edae-9091-41bb-a08d-ab1c66bd08d5  425b7a1a-b744-4c6b-898e-d424dd8cf18e   \n",
       "\n",
       "   product  on_time  product_quantity                     driver_identifier  \n",
       "0   lotion     True                59  d8da0460-cf39-4f38-9fff-6c9b4e344d8a  \n",
       "1  windows     True                28  293ccaec-6592-4f04-aae5-3e238fe62614  \n",
       "2     skis     True                63  80988f09-91a3-4e1b-8e69-13551c53f318  \n",
       "3    bikes     True                47  5f79b402-655f-4d8e-8ff3-5ef05870e0ad  \n",
       "4    candy    False                73  58beb5d3-98f8-4077-a964-1f04f7cb11e5  "
      ]
     },
     "execution_count": 10,
     "metadata": {},
     "output_type": "execute_result"
    }
   ],
   "source": [
    "df0 = pd.read_csv(\"./data/shipping_data_0.csv\")\n",
    "df0.head()"
   ]
  },
  {
   "cell_type": "code",
   "execution_count": 11,
   "id": "4d0366a4-326b-4938-a436-593f5525a3d7",
   "metadata": {},
   "outputs": [
    {
     "name": "stdout",
     "output_type": "stream",
     "text": [
      "<class 'pandas.core.frame.DataFrame'>\n",
      "RangeIndex: 110 entries, 0 to 109\n",
      "Data columns (total 6 columns):\n",
      " #   Column             Non-Null Count  Dtype \n",
      "---  ------             --------------  ----- \n",
      " 0   origin_warehouse   110 non-null    object\n",
      " 1   destination_store  110 non-null    object\n",
      " 2   product            110 non-null    object\n",
      " 3   on_time            110 non-null    bool  \n",
      " 4   product_quantity   110 non-null    int64 \n",
      " 5   driver_identifier  110 non-null    object\n",
      "dtypes: bool(1), int64(1), object(4)\n",
      "memory usage: 4.5+ KB\n"
     ]
    }
   ],
   "source": [
    "df0.info()"
   ]
  },
  {
   "cell_type": "code",
   "execution_count": 12,
   "id": "19e92f93-b0dd-4a17-99c6-7d86168d9c71",
   "metadata": {},
   "outputs": [
    {
     "data": {
      "text/html": [
       "<div>\n",
       "<style scoped>\n",
       "    .dataframe tbody tr th:only-of-type {\n",
       "        vertical-align: middle;\n",
       "    }\n",
       "\n",
       "    .dataframe tbody tr th {\n",
       "        vertical-align: top;\n",
       "    }\n",
       "\n",
       "    .dataframe thead th {\n",
       "        text-align: right;\n",
       "    }\n",
       "</style>\n",
       "<table border=\"1\" class=\"dataframe\">\n",
       "  <thead>\n",
       "    <tr style=\"text-align: right;\">\n",
       "      <th></th>\n",
       "      <th>shipment_identifier</th>\n",
       "      <th>product</th>\n",
       "      <th>on_time</th>\n",
       "    </tr>\n",
       "  </thead>\n",
       "  <tbody>\n",
       "    <tr>\n",
       "      <th>0</th>\n",
       "      <td>449263b4-6c93-4f19-8b6a-0d99a29fc637</td>\n",
       "      <td>pants</td>\n",
       "      <td>False</td>\n",
       "    </tr>\n",
       "    <tr>\n",
       "      <th>1</th>\n",
       "      <td>449263b4-6c93-4f19-8b6a-0d99a29fc637</td>\n",
       "      <td>pants</td>\n",
       "      <td>False</td>\n",
       "    </tr>\n",
       "    <tr>\n",
       "      <th>2</th>\n",
       "      <td>449263b4-6c93-4f19-8b6a-0d99a29fc637</td>\n",
       "      <td>pants</td>\n",
       "      <td>False</td>\n",
       "    </tr>\n",
       "    <tr>\n",
       "      <th>3</th>\n",
       "      <td>449263b4-6c93-4f19-8b6a-0d99a29fc637</td>\n",
       "      <td>keyboards</td>\n",
       "      <td>False</td>\n",
       "    </tr>\n",
       "    <tr>\n",
       "      <th>4</th>\n",
       "      <td>449263b4-6c93-4f19-8b6a-0d99a29fc637</td>\n",
       "      <td>keyboards</td>\n",
       "      <td>False</td>\n",
       "    </tr>\n",
       "  </tbody>\n",
       "</table>\n",
       "</div>"
      ],
      "text/plain": [
       "                    shipment_identifier    product  on_time\n",
       "0  449263b4-6c93-4f19-8b6a-0d99a29fc637      pants    False\n",
       "1  449263b4-6c93-4f19-8b6a-0d99a29fc637      pants    False\n",
       "2  449263b4-6c93-4f19-8b6a-0d99a29fc637      pants    False\n",
       "3  449263b4-6c93-4f19-8b6a-0d99a29fc637  keyboards    False\n",
       "4  449263b4-6c93-4f19-8b6a-0d99a29fc637  keyboards    False"
      ]
     },
     "execution_count": 12,
     "metadata": {},
     "output_type": "execute_result"
    }
   ],
   "source": [
    "df1 = pd.read_csv(\"./data/shipping_data_1.csv\")\n",
    "df1.head()"
   ]
  },
  {
   "cell_type": "code",
   "execution_count": 13,
   "id": "00f81da1-906c-46cc-b3c1-9d65ab45f78f",
   "metadata": {},
   "outputs": [
    {
     "data": {
      "text/html": [
       "<div>\n",
       "<style scoped>\n",
       "    .dataframe tbody tr th:only-of-type {\n",
       "        vertical-align: middle;\n",
       "    }\n",
       "\n",
       "    .dataframe tbody tr th {\n",
       "        vertical-align: top;\n",
       "    }\n",
       "\n",
       "    .dataframe thead th {\n",
       "        text-align: right;\n",
       "    }\n",
       "</style>\n",
       "<table border=\"1\" class=\"dataframe\">\n",
       "  <thead>\n",
       "    <tr style=\"text-align: right;\">\n",
       "      <th></th>\n",
       "      <th>shipment_identifier</th>\n",
       "      <th>origin_warehouse</th>\n",
       "      <th>destination_store</th>\n",
       "      <th>driver_identifier</th>\n",
       "    </tr>\n",
       "  </thead>\n",
       "  <tbody>\n",
       "    <tr>\n",
       "      <th>0</th>\n",
       "      <td>449263b4-6c93-4f19-8b6a-0d99a29fc637</td>\n",
       "      <td>bb75bf7d-c008-4267-bf92-6089cff5fe56</td>\n",
       "      <td>5e9405de-a078-4b00-99c6-96564568b63c</td>\n",
       "      <td>c12025e6-6f9c-4728-8c3c-9f840bde6f1a</td>\n",
       "    </tr>\n",
       "    <tr>\n",
       "      <th>1</th>\n",
       "      <td>76e5b84a-9d09-4efb-8b43-a0c932b958bb</td>\n",
       "      <td>372fd2b1-b2a7-4553-b6d7-426a1bc88e56</td>\n",
       "      <td>e34973c8-9ca9-4a06-b497-7a8b49625fc2</td>\n",
       "      <td>85b8d394-a67c-48b6-b1de-55be323ba622</td>\n",
       "    </tr>\n",
       "    <tr>\n",
       "      <th>2</th>\n",
       "      <td>b541a47d-89b1-4805-97d0-1988832321f1</td>\n",
       "      <td>469d957f-28ef-4eac-956a-d2a42b06d3ab</td>\n",
       "      <td>fcadc756-61e9-41bb-871b-d3546c5aa981</td>\n",
       "      <td>47bdfc40-f3db-4678-b6a7-43f1e1c2fd32</td>\n",
       "    </tr>\n",
       "    <tr>\n",
       "      <th>3</th>\n",
       "      <td>3fc6b63d-27b4-408c-b3b3-e8e94a45b079</td>\n",
       "      <td>cd140190-a53b-4660-a5b4-cc844a6506f0</td>\n",
       "      <td>89ba200c-ca90-443a-b64f-397bce091eae</td>\n",
       "      <td>5ae3e541-2098-45b6-8d94-35d176185606</td>\n",
       "    </tr>\n",
       "    <tr>\n",
       "      <th>4</th>\n",
       "      <td>491ee4e8-be80-4f52-802b-d8fe1a6bd487</td>\n",
       "      <td>c6addf8b-eea6-43b8-9040-b5620b1a0d99</td>\n",
       "      <td>7aebe820-8478-4a29-a606-7c59af677e24</td>\n",
       "      <td>1f228b52-7165-4d7f-a731-3f7707aefb2a</td>\n",
       "    </tr>\n",
       "  </tbody>\n",
       "</table>\n",
       "</div>"
      ],
      "text/plain": [
       "                    shipment_identifier                      origin_warehouse  \\\n",
       "0  449263b4-6c93-4f19-8b6a-0d99a29fc637  bb75bf7d-c008-4267-bf92-6089cff5fe56   \n",
       "1  76e5b84a-9d09-4efb-8b43-a0c932b958bb  372fd2b1-b2a7-4553-b6d7-426a1bc88e56   \n",
       "2  b541a47d-89b1-4805-97d0-1988832321f1  469d957f-28ef-4eac-956a-d2a42b06d3ab   \n",
       "3  3fc6b63d-27b4-408c-b3b3-e8e94a45b079  cd140190-a53b-4660-a5b4-cc844a6506f0   \n",
       "4  491ee4e8-be80-4f52-802b-d8fe1a6bd487  c6addf8b-eea6-43b8-9040-b5620b1a0d99   \n",
       "\n",
       "                      destination_store                     driver_identifier  \n",
       "0  5e9405de-a078-4b00-99c6-96564568b63c  c12025e6-6f9c-4728-8c3c-9f840bde6f1a  \n",
       "1  e34973c8-9ca9-4a06-b497-7a8b49625fc2  85b8d394-a67c-48b6-b1de-55be323ba622  \n",
       "2  fcadc756-61e9-41bb-871b-d3546c5aa981  47bdfc40-f3db-4678-b6a7-43f1e1c2fd32  \n",
       "3  89ba200c-ca90-443a-b64f-397bce091eae  5ae3e541-2098-45b6-8d94-35d176185606  \n",
       "4  7aebe820-8478-4a29-a606-7c59af677e24  1f228b52-7165-4d7f-a731-3f7707aefb2a  "
      ]
     },
     "execution_count": 13,
     "metadata": {},
     "output_type": "execute_result"
    }
   ],
   "source": [
    "df2 = pd.read_csv(\"./data/shipping_data_2.csv\")\n",
    "df2.head()"
   ]
  },
  {
   "cell_type": "code",
   "execution_count": 14,
   "id": "26c80e37-b703-49a2-b3f1-00681eaf9c4d",
   "metadata": {},
   "outputs": [
    {
     "data": {
      "text/html": [
       "<div>\n",
       "<style scoped>\n",
       "    .dataframe tbody tr th:only-of-type {\n",
       "        vertical-align: middle;\n",
       "    }\n",
       "\n",
       "    .dataframe tbody tr th {\n",
       "        vertical-align: top;\n",
       "    }\n",
       "\n",
       "    .dataframe thead th {\n",
       "        text-align: right;\n",
       "    }\n",
       "</style>\n",
       "<table border=\"1\" class=\"dataframe\">\n",
       "  <thead>\n",
       "    <tr style=\"text-align: right;\">\n",
       "      <th></th>\n",
       "      <th>shipment_identifier</th>\n",
       "      <th>product</th>\n",
       "      <th>on_time</th>\n",
       "      <th>origin_warehouse</th>\n",
       "      <th>destination_store</th>\n",
       "      <th>driver_identifier</th>\n",
       "    </tr>\n",
       "  </thead>\n",
       "  <tbody>\n",
       "    <tr>\n",
       "      <th>0</th>\n",
       "      <td>449263b4-6c93-4f19-8b6a-0d99a29fc637</td>\n",
       "      <td>pants</td>\n",
       "      <td>False</td>\n",
       "      <td>bb75bf7d-c008-4267-bf92-6089cff5fe56</td>\n",
       "      <td>5e9405de-a078-4b00-99c6-96564568b63c</td>\n",
       "      <td>c12025e6-6f9c-4728-8c3c-9f840bde6f1a</td>\n",
       "    </tr>\n",
       "    <tr>\n",
       "      <th>1</th>\n",
       "      <td>449263b4-6c93-4f19-8b6a-0d99a29fc637</td>\n",
       "      <td>pants</td>\n",
       "      <td>False</td>\n",
       "      <td>bb75bf7d-c008-4267-bf92-6089cff5fe56</td>\n",
       "      <td>5e9405de-a078-4b00-99c6-96564568b63c</td>\n",
       "      <td>c12025e6-6f9c-4728-8c3c-9f840bde6f1a</td>\n",
       "    </tr>\n",
       "    <tr>\n",
       "      <th>2</th>\n",
       "      <td>449263b4-6c93-4f19-8b6a-0d99a29fc637</td>\n",
       "      <td>pants</td>\n",
       "      <td>False</td>\n",
       "      <td>bb75bf7d-c008-4267-bf92-6089cff5fe56</td>\n",
       "      <td>5e9405de-a078-4b00-99c6-96564568b63c</td>\n",
       "      <td>c12025e6-6f9c-4728-8c3c-9f840bde6f1a</td>\n",
       "    </tr>\n",
       "    <tr>\n",
       "      <th>3</th>\n",
       "      <td>449263b4-6c93-4f19-8b6a-0d99a29fc637</td>\n",
       "      <td>keyboards</td>\n",
       "      <td>False</td>\n",
       "      <td>bb75bf7d-c008-4267-bf92-6089cff5fe56</td>\n",
       "      <td>5e9405de-a078-4b00-99c6-96564568b63c</td>\n",
       "      <td>c12025e6-6f9c-4728-8c3c-9f840bde6f1a</td>\n",
       "    </tr>\n",
       "    <tr>\n",
       "      <th>4</th>\n",
       "      <td>449263b4-6c93-4f19-8b6a-0d99a29fc637</td>\n",
       "      <td>keyboards</td>\n",
       "      <td>False</td>\n",
       "      <td>bb75bf7d-c008-4267-bf92-6089cff5fe56</td>\n",
       "      <td>5e9405de-a078-4b00-99c6-96564568b63c</td>\n",
       "      <td>c12025e6-6f9c-4728-8c3c-9f840bde6f1a</td>\n",
       "    </tr>\n",
       "  </tbody>\n",
       "</table>\n",
       "</div>"
      ],
      "text/plain": [
       "                    shipment_identifier    product  on_time  \\\n",
       "0  449263b4-6c93-4f19-8b6a-0d99a29fc637      pants    False   \n",
       "1  449263b4-6c93-4f19-8b6a-0d99a29fc637      pants    False   \n",
       "2  449263b4-6c93-4f19-8b6a-0d99a29fc637      pants    False   \n",
       "3  449263b4-6c93-4f19-8b6a-0d99a29fc637  keyboards    False   \n",
       "4  449263b4-6c93-4f19-8b6a-0d99a29fc637  keyboards    False   \n",
       "\n",
       "                       origin_warehouse                     destination_store  \\\n",
       "0  bb75bf7d-c008-4267-bf92-6089cff5fe56  5e9405de-a078-4b00-99c6-96564568b63c   \n",
       "1  bb75bf7d-c008-4267-bf92-6089cff5fe56  5e9405de-a078-4b00-99c6-96564568b63c   \n",
       "2  bb75bf7d-c008-4267-bf92-6089cff5fe56  5e9405de-a078-4b00-99c6-96564568b63c   \n",
       "3  bb75bf7d-c008-4267-bf92-6089cff5fe56  5e9405de-a078-4b00-99c6-96564568b63c   \n",
       "4  bb75bf7d-c008-4267-bf92-6089cff5fe56  5e9405de-a078-4b00-99c6-96564568b63c   \n",
       "\n",
       "                      driver_identifier  \n",
       "0  c12025e6-6f9c-4728-8c3c-9f840bde6f1a  \n",
       "1  c12025e6-6f9c-4728-8c3c-9f840bde6f1a  \n",
       "2  c12025e6-6f9c-4728-8c3c-9f840bde6f1a  \n",
       "3  c12025e6-6f9c-4728-8c3c-9f840bde6f1a  \n",
       "4  c12025e6-6f9c-4728-8c3c-9f840bde6f1a  "
      ]
     },
     "execution_count": 14,
     "metadata": {},
     "output_type": "execute_result"
    }
   ],
   "source": [
    "df_merged = pd.merge(df1,df2,how=\"inner\",on=\"shipment_identifier\")\n",
    "df_merged.head()"
   ]
  },
  {
   "cell_type": "code",
   "execution_count": 15,
   "id": "61a71585-ca1e-49f1-8367-3cc9a241ed62",
   "metadata": {},
   "outputs": [
    {
     "data": {
      "text/html": [
       "<div>\n",
       "<style scoped>\n",
       "    .dataframe tbody tr th:only-of-type {\n",
       "        vertical-align: middle;\n",
       "    }\n",
       "\n",
       "    .dataframe tbody tr th {\n",
       "        vertical-align: top;\n",
       "    }\n",
       "\n",
       "    .dataframe thead th {\n",
       "        text-align: right;\n",
       "    }\n",
       "</style>\n",
       "<table border=\"1\" class=\"dataframe\">\n",
       "  <thead>\n",
       "    <tr style=\"text-align: right;\">\n",
       "      <th></th>\n",
       "      <th>origin_warehouse</th>\n",
       "      <th>destination_store</th>\n",
       "      <th>product</th>\n",
       "      <th>on_time</th>\n",
       "      <th>driver_identifier</th>\n",
       "    </tr>\n",
       "  </thead>\n",
       "  <tbody>\n",
       "    <tr>\n",
       "      <th>0</th>\n",
       "      <td>bb75bf7d-c008-4267-bf92-6089cff5fe56</td>\n",
       "      <td>5e9405de-a078-4b00-99c6-96564568b63c</td>\n",
       "      <td>pants</td>\n",
       "      <td>False</td>\n",
       "      <td>c12025e6-6f9c-4728-8c3c-9f840bde6f1a</td>\n",
       "    </tr>\n",
       "    <tr>\n",
       "      <th>1</th>\n",
       "      <td>bb75bf7d-c008-4267-bf92-6089cff5fe56</td>\n",
       "      <td>5e9405de-a078-4b00-99c6-96564568b63c</td>\n",
       "      <td>pants</td>\n",
       "      <td>False</td>\n",
       "      <td>c12025e6-6f9c-4728-8c3c-9f840bde6f1a</td>\n",
       "    </tr>\n",
       "    <tr>\n",
       "      <th>2</th>\n",
       "      <td>bb75bf7d-c008-4267-bf92-6089cff5fe56</td>\n",
       "      <td>5e9405de-a078-4b00-99c6-96564568b63c</td>\n",
       "      <td>pants</td>\n",
       "      <td>False</td>\n",
       "      <td>c12025e6-6f9c-4728-8c3c-9f840bde6f1a</td>\n",
       "    </tr>\n",
       "    <tr>\n",
       "      <th>3</th>\n",
       "      <td>bb75bf7d-c008-4267-bf92-6089cff5fe56</td>\n",
       "      <td>5e9405de-a078-4b00-99c6-96564568b63c</td>\n",
       "      <td>keyboards</td>\n",
       "      <td>False</td>\n",
       "      <td>c12025e6-6f9c-4728-8c3c-9f840bde6f1a</td>\n",
       "    </tr>\n",
       "    <tr>\n",
       "      <th>4</th>\n",
       "      <td>bb75bf7d-c008-4267-bf92-6089cff5fe56</td>\n",
       "      <td>5e9405de-a078-4b00-99c6-96564568b63c</td>\n",
       "      <td>keyboards</td>\n",
       "      <td>False</td>\n",
       "      <td>c12025e6-6f9c-4728-8c3c-9f840bde6f1a</td>\n",
       "    </tr>\n",
       "  </tbody>\n",
       "</table>\n",
       "</div>"
      ],
      "text/plain": [
       "                       origin_warehouse                     destination_store  \\\n",
       "0  bb75bf7d-c008-4267-bf92-6089cff5fe56  5e9405de-a078-4b00-99c6-96564568b63c   \n",
       "1  bb75bf7d-c008-4267-bf92-6089cff5fe56  5e9405de-a078-4b00-99c6-96564568b63c   \n",
       "2  bb75bf7d-c008-4267-bf92-6089cff5fe56  5e9405de-a078-4b00-99c6-96564568b63c   \n",
       "3  bb75bf7d-c008-4267-bf92-6089cff5fe56  5e9405de-a078-4b00-99c6-96564568b63c   \n",
       "4  bb75bf7d-c008-4267-bf92-6089cff5fe56  5e9405de-a078-4b00-99c6-96564568b63c   \n",
       "\n",
       "     product  on_time                     driver_identifier  \n",
       "0      pants    False  c12025e6-6f9c-4728-8c3c-9f840bde6f1a  \n",
       "1      pants    False  c12025e6-6f9c-4728-8c3c-9f840bde6f1a  \n",
       "2      pants    False  c12025e6-6f9c-4728-8c3c-9f840bde6f1a  \n",
       "3  keyboards    False  c12025e6-6f9c-4728-8c3c-9f840bde6f1a  \n",
       "4  keyboards    False  c12025e6-6f9c-4728-8c3c-9f840bde6f1a  "
      ]
     },
     "execution_count": 15,
     "metadata": {},
     "output_type": "execute_result"
    }
   ],
   "source": [
    "df_final = df_merged[['origin_warehouse',\t'destination_store',\t'product',\t'on_time',\t'driver_identifier']]\n",
    "df_final.head()"
   ]
  },
  {
   "cell_type": "code",
   "execution_count": 16,
   "id": "ed6e3d1d-1ba9-44ab-aaf1-b2179763d9ab",
   "metadata": {},
   "outputs": [
    {
     "data": {
      "text/plain": [
       "np.int64(66)"
      ]
     },
     "execution_count": 16,
     "metadata": {},
     "output_type": "execute_result"
    }
   ],
   "source": [
    "df_final.duplicated().sum()"
   ]
  },
  {
   "cell_type": "code",
   "execution_count": 17,
   "id": "a5d7db65-eaa2-412a-bf1b-00f65736efa0",
   "metadata": {},
   "outputs": [
    {
     "data": {
      "text/html": [
       "<div>\n",
       "<style scoped>\n",
       "    .dataframe tbody tr th:only-of-type {\n",
       "        vertical-align: middle;\n",
       "    }\n",
       "\n",
       "    .dataframe tbody tr th {\n",
       "        vertical-align: top;\n",
       "    }\n",
       "\n",
       "    .dataframe thead th {\n",
       "        text-align: right;\n",
       "    }\n",
       "</style>\n",
       "<table border=\"1\" class=\"dataframe\">\n",
       "  <thead>\n",
       "    <tr style=\"text-align: right;\">\n",
       "      <th></th>\n",
       "      <th>origin_warehouse</th>\n",
       "      <th>destination_store</th>\n",
       "      <th>product</th>\n",
       "      <th>on_time</th>\n",
       "      <th>driver_identifier</th>\n",
       "      <th>product_quantity</th>\n",
       "    </tr>\n",
       "  </thead>\n",
       "  <tbody>\n",
       "    <tr>\n",
       "      <th>0</th>\n",
       "      <td>026ffd7c-cff2-4daa-ae76-6768d3283861</td>\n",
       "      <td>d33a7b5d-15e5-4ba6-93ef-136bbcbf4946</td>\n",
       "      <td>pants</td>\n",
       "      <td>True</td>\n",
       "      <td>6e905a32-46a8-4555-8434-a6b16580e873</td>\n",
       "      <td>1</td>\n",
       "    </tr>\n",
       "    <tr>\n",
       "      <th>1</th>\n",
       "      <td>026ffd7c-cff2-4daa-ae76-6768d3283861</td>\n",
       "      <td>d33a7b5d-15e5-4ba6-93ef-136bbcbf4946</td>\n",
       "      <td>pencils</td>\n",
       "      <td>True</td>\n",
       "      <td>6e905a32-46a8-4555-8434-a6b16580e873</td>\n",
       "      <td>4</td>\n",
       "    </tr>\n",
       "    <tr>\n",
       "      <th>2</th>\n",
       "      <td>20efa3c2-c498-4908-8af4-f81c76781912</td>\n",
       "      <td>0167b0c3-60fd-4fbd-b378-fba0ceac39ff</td>\n",
       "      <td>eggs</td>\n",
       "      <td>False</td>\n",
       "      <td>45a23a59-09cb-4906-8293-6014b72de249</td>\n",
       "      <td>3</td>\n",
       "    </tr>\n",
       "    <tr>\n",
       "      <th>3</th>\n",
       "      <td>20efa3c2-c498-4908-8af4-f81c76781912</td>\n",
       "      <td>0167b0c3-60fd-4fbd-b378-fba0ceac39ff</td>\n",
       "      <td>toys</td>\n",
       "      <td>False</td>\n",
       "      <td>45a23a59-09cb-4906-8293-6014b72de249</td>\n",
       "      <td>3</td>\n",
       "    </tr>\n",
       "    <tr>\n",
       "      <th>4</th>\n",
       "      <td>372fd2b1-b2a7-4553-b6d7-426a1bc88e56</td>\n",
       "      <td>e34973c8-9ca9-4a06-b497-7a8b49625fc2</td>\n",
       "      <td>baby food</td>\n",
       "      <td>False</td>\n",
       "      <td>85b8d394-a67c-48b6-b1de-55be323ba622</td>\n",
       "      <td>1</td>\n",
       "    </tr>\n",
       "  </tbody>\n",
       "</table>\n",
       "</div>"
      ],
      "text/plain": [
       "                       origin_warehouse                     destination_store  \\\n",
       "0  026ffd7c-cff2-4daa-ae76-6768d3283861  d33a7b5d-15e5-4ba6-93ef-136bbcbf4946   \n",
       "1  026ffd7c-cff2-4daa-ae76-6768d3283861  d33a7b5d-15e5-4ba6-93ef-136bbcbf4946   \n",
       "2  20efa3c2-c498-4908-8af4-f81c76781912  0167b0c3-60fd-4fbd-b378-fba0ceac39ff   \n",
       "3  20efa3c2-c498-4908-8af4-f81c76781912  0167b0c3-60fd-4fbd-b378-fba0ceac39ff   \n",
       "4  372fd2b1-b2a7-4553-b6d7-426a1bc88e56  e34973c8-9ca9-4a06-b497-7a8b49625fc2   \n",
       "\n",
       "     product  on_time                     driver_identifier  product_quantity  \n",
       "0      pants     True  6e905a32-46a8-4555-8434-a6b16580e873                 1  \n",
       "1    pencils     True  6e905a32-46a8-4555-8434-a6b16580e873                 4  \n",
       "2       eggs    False  45a23a59-09cb-4906-8293-6014b72de249                 3  \n",
       "3       toys    False  45a23a59-09cb-4906-8293-6014b72de249                 3  \n",
       "4  baby food    False  85b8d394-a67c-48b6-b1de-55be323ba622                 1  "
      ]
     },
     "execution_count": 17,
     "metadata": {},
     "output_type": "execute_result"
    }
   ],
   "source": [
    "df_final_Product_qunantity = df_final.groupby(['origin_warehouse',\t'destination_store',\t'product',\t'on_time',\t'driver_identifier']).size().reset_index(name='product_quantity')\n",
    "df_final_Product_qunantity.head()"
   ]
  },
  {
   "cell_type": "code",
   "execution_count": 18,
   "id": "8a1161fe-cd06-4a0d-8c72-5a2f977229c2",
   "metadata": {},
   "outputs": [
    {
     "data": {
      "text/html": [
       "<div>\n",
       "<style scoped>\n",
       "    .dataframe tbody tr th:only-of-type {\n",
       "        vertical-align: middle;\n",
       "    }\n",
       "\n",
       "    .dataframe tbody tr th {\n",
       "        vertical-align: top;\n",
       "    }\n",
       "\n",
       "    .dataframe thead th {\n",
       "        text-align: right;\n",
       "    }\n",
       "</style>\n",
       "<table border=\"1\" class=\"dataframe\">\n",
       "  <thead>\n",
       "    <tr style=\"text-align: right;\">\n",
       "      <th></th>\n",
       "      <th>origin_warehouse</th>\n",
       "      <th>destination_store</th>\n",
       "      <th>product</th>\n",
       "      <th>on_time</th>\n",
       "      <th>product_quantity</th>\n",
       "      <th>driver_identifier</th>\n",
       "    </tr>\n",
       "  </thead>\n",
       "  <tbody>\n",
       "    <tr>\n",
       "      <th>0</th>\n",
       "      <td>026ffd7c-cff2-4daa-ae76-6768d3283861</td>\n",
       "      <td>d33a7b5d-15e5-4ba6-93ef-136bbcbf4946</td>\n",
       "      <td>pants</td>\n",
       "      <td>True</td>\n",
       "      <td>1</td>\n",
       "      <td>6e905a32-46a8-4555-8434-a6b16580e873</td>\n",
       "    </tr>\n",
       "    <tr>\n",
       "      <th>1</th>\n",
       "      <td>026ffd7c-cff2-4daa-ae76-6768d3283861</td>\n",
       "      <td>d33a7b5d-15e5-4ba6-93ef-136bbcbf4946</td>\n",
       "      <td>pencils</td>\n",
       "      <td>True</td>\n",
       "      <td>4</td>\n",
       "      <td>6e905a32-46a8-4555-8434-a6b16580e873</td>\n",
       "    </tr>\n",
       "    <tr>\n",
       "      <th>2</th>\n",
       "      <td>20efa3c2-c498-4908-8af4-f81c76781912</td>\n",
       "      <td>0167b0c3-60fd-4fbd-b378-fba0ceac39ff</td>\n",
       "      <td>eggs</td>\n",
       "      <td>False</td>\n",
       "      <td>3</td>\n",
       "      <td>45a23a59-09cb-4906-8293-6014b72de249</td>\n",
       "    </tr>\n",
       "    <tr>\n",
       "      <th>3</th>\n",
       "      <td>20efa3c2-c498-4908-8af4-f81c76781912</td>\n",
       "      <td>0167b0c3-60fd-4fbd-b378-fba0ceac39ff</td>\n",
       "      <td>toys</td>\n",
       "      <td>False</td>\n",
       "      <td>3</td>\n",
       "      <td>45a23a59-09cb-4906-8293-6014b72de249</td>\n",
       "    </tr>\n",
       "    <tr>\n",
       "      <th>4</th>\n",
       "      <td>372fd2b1-b2a7-4553-b6d7-426a1bc88e56</td>\n",
       "      <td>e34973c8-9ca9-4a06-b497-7a8b49625fc2</td>\n",
       "      <td>baby food</td>\n",
       "      <td>False</td>\n",
       "      <td>1</td>\n",
       "      <td>85b8d394-a67c-48b6-b1de-55be323ba622</td>\n",
       "    </tr>\n",
       "  </tbody>\n",
       "</table>\n",
       "</div>"
      ],
      "text/plain": [
       "                       origin_warehouse                     destination_store  \\\n",
       "0  026ffd7c-cff2-4daa-ae76-6768d3283861  d33a7b5d-15e5-4ba6-93ef-136bbcbf4946   \n",
       "1  026ffd7c-cff2-4daa-ae76-6768d3283861  d33a7b5d-15e5-4ba6-93ef-136bbcbf4946   \n",
       "2  20efa3c2-c498-4908-8af4-f81c76781912  0167b0c3-60fd-4fbd-b378-fba0ceac39ff   \n",
       "3  20efa3c2-c498-4908-8af4-f81c76781912  0167b0c3-60fd-4fbd-b378-fba0ceac39ff   \n",
       "4  372fd2b1-b2a7-4553-b6d7-426a1bc88e56  e34973c8-9ca9-4a06-b497-7a8b49625fc2   \n",
       "\n",
       "     product  on_time  product_quantity                     driver_identifier  \n",
       "0      pants     True                 1  6e905a32-46a8-4555-8434-a6b16580e873  \n",
       "1    pencils     True                 4  6e905a32-46a8-4555-8434-a6b16580e873  \n",
       "2       eggs    False                 3  45a23a59-09cb-4906-8293-6014b72de249  \n",
       "3       toys    False                 3  45a23a59-09cb-4906-8293-6014b72de249  \n",
       "4  baby food    False                 1  85b8d394-a67c-48b6-b1de-55be323ba622  "
      ]
     },
     "execution_count": 18,
     "metadata": {},
     "output_type": "execute_result"
    }
   ],
   "source": [
    "df_f = df_final_Product_qunantity[['origin_warehouse',\t'destination_store',\t'product',\t'on_time',\t'product_quantity',\t'driver_identifier']]\n",
    "df_f.head()"
   ]
  },
  {
   "cell_type": "code",
   "execution_count": 19,
   "id": "1d86cd25-0240-4b2a-936e-24839b525339",
   "metadata": {},
   "outputs": [
    {
     "name": "stdout",
     "output_type": "stream",
     "text": [
      "<class 'pandas.core.frame.DataFrame'>\n",
      "RangeIndex: 44 entries, 0 to 43\n",
      "Data columns (total 6 columns):\n",
      " #   Column             Non-Null Count  Dtype \n",
      "---  ------             --------------  ----- \n",
      " 0   origin_warehouse   44 non-null     object\n",
      " 1   destination_store  44 non-null     object\n",
      " 2   product            44 non-null     object\n",
      " 3   on_time            44 non-null     bool  \n",
      " 4   product_quantity   44 non-null     int64 \n",
      " 5   driver_identifier  44 non-null     object\n",
      "dtypes: bool(1), int64(1), object(4)\n",
      "memory usage: 1.9+ KB\n"
     ]
    }
   ],
   "source": [
    "df_f.info()"
   ]
  },
  {
   "cell_type": "code",
   "execution_count": 43,
   "id": "55ca9830-8c33-4402-8af5-007ee4c014b8",
   "metadata": {},
   "outputs": [],
   "source": [
    "df_f.to_csv('./data/shipping_data_1&2_formated.csv', index=False)"
   ]
  },
  {
   "cell_type": "code",
   "execution_count": 20,
   "id": "dbaad0d0-73ce-4c98-919e-a9cae5d67131",
   "metadata": {},
   "outputs": [
    {
     "name": "stdout",
     "output_type": "stream",
     "text": [
      "<class 'pandas.core.frame.DataFrame'>\n",
      "RangeIndex: 154 entries, 0 to 153\n",
      "Data columns (total 6 columns):\n",
      " #   Column             Non-Null Count  Dtype \n",
      "---  ------             --------------  ----- \n",
      " 0   origin_warehouse   154 non-null    object\n",
      " 1   destination_store  154 non-null    object\n",
      " 2   product            154 non-null    object\n",
      " 3   on_time            154 non-null    bool  \n",
      " 4   product_quantity   154 non-null    int64 \n",
      " 5   driver_identifier  154 non-null    object\n",
      "dtypes: bool(1), int64(1), object(4)\n",
      "memory usage: 6.3+ KB\n"
     ]
    }
   ],
   "source": [
    "df = pd.concat([df0, df_f], ignore_index=True)\n",
    "df.info()"
   ]
  },
  {
   "cell_type": "markdown",
   "id": "d49f34ea-43ba-42bc-9b1e-cd79b82e599b",
   "metadata": {},
   "source": [
    "# Data to DB"
   ]
  },
  {
   "cell_type": "code",
   "execution_count": 21,
   "id": "437479c1-ff8c-4a93-bae3-118265cdd018",
   "metadata": {},
   "outputs": [],
   "source": [
    "import sqlite3"
   ]
  },
  {
   "cell_type": "code",
   "execution_count": 43,
   "id": "c66093bd-6127-472c-9dda-bda962560e2f",
   "metadata": {},
   "outputs": [
    {
     "data": {
      "text/plain": [
       "[('product',), ('shipment',)]"
      ]
     },
     "execution_count": 43,
     "metadata": {},
     "output_type": "execute_result"
    }
   ],
   "source": [
    "con = sqlite3.connect(\"shipment_database.db\")\n",
    "cur = con.cursor()\n",
    "r = cur.execute(\"SELECT name FROM sqlite_master WHERE type='table'\").fetchall()\n",
    "r"
   ]
  },
  {
   "cell_type": "code",
   "execution_count": 23,
   "id": "219ce610-3048-4309-b19a-ae93ccd9c6cf",
   "metadata": {},
   "outputs": [
    {
     "name": "stdout",
     "output_type": "stream",
     "text": [
      "['id', 'product_id', 'quantity', 'origin', 'destination']\n"
     ]
    }
   ],
   "source": [
    "cur.execute(\"SELECT * FROM shipment\")\n",
    "column_names = [description[0] for description in cur.description]\n",
    "\n",
    "print(column_names)"
   ]
  },
  {
   "cell_type": "code",
   "execution_count": 24,
   "id": "83aae1a3-5804-408e-a1cb-aaf8311433cf",
   "metadata": {},
   "outputs": [
    {
     "name": "stdout",
     "output_type": "stream",
     "text": [
      "['id', 'name']\n"
     ]
    }
   ],
   "source": [
    "cur.execute(\"SELECT * FROM product\")\n",
    "column_names = [description[0] for description in cur.description]\n",
    "\n",
    "print(column_names)"
   ]
  },
  {
   "cell_type": "code",
   "execution_count": 25,
   "id": "57ffea46-02a6-45d0-8b97-34c3b81a4227",
   "metadata": {},
   "outputs": [
    {
     "data": {
      "text/html": [
       "<div>\n",
       "<style scoped>\n",
       "    .dataframe tbody tr th:only-of-type {\n",
       "        vertical-align: middle;\n",
       "    }\n",
       "\n",
       "    .dataframe tbody tr th {\n",
       "        vertical-align: top;\n",
       "    }\n",
       "\n",
       "    .dataframe thead th {\n",
       "        text-align: right;\n",
       "    }\n",
       "</style>\n",
       "<table border=\"1\" class=\"dataframe\">\n",
       "  <thead>\n",
       "    <tr style=\"text-align: right;\">\n",
       "      <th></th>\n",
       "      <th>origin_warehouse</th>\n",
       "      <th>destination_store</th>\n",
       "      <th>product</th>\n",
       "      <th>on_time</th>\n",
       "      <th>product_quantity</th>\n",
       "      <th>driver_identifier</th>\n",
       "    </tr>\n",
       "  </thead>\n",
       "  <tbody>\n",
       "    <tr>\n",
       "      <th>0</th>\n",
       "      <td>d5566b15-b071-4acf-8e8e-c98433083b2d</td>\n",
       "      <td>50d33715-4c77-4dd9-8b9d-ff1ca372a2a2</td>\n",
       "      <td>lotion</td>\n",
       "      <td>True</td>\n",
       "      <td>59</td>\n",
       "      <td>d8da0460-cf39-4f38-9fff-6c9b4e344d8a</td>\n",
       "    </tr>\n",
       "    <tr>\n",
       "      <th>1</th>\n",
       "      <td>c42f0de8-b4f0-4167-abd1-ae79e5e18eea</td>\n",
       "      <td>172eb8f3-1033-4fb6-b66b-d0df09df3161</td>\n",
       "      <td>windows</td>\n",
       "      <td>True</td>\n",
       "      <td>28</td>\n",
       "      <td>293ccaec-6592-4f04-aae5-3e238fe62614</td>\n",
       "    </tr>\n",
       "    <tr>\n",
       "      <th>2</th>\n",
       "      <td>b145f396-de9b-42f1-9cc9-f5b52c3a941c</td>\n",
       "      <td>65e4544d-42ae-4751-9580-bdcb90e5fcda</td>\n",
       "      <td>skis</td>\n",
       "      <td>True</td>\n",
       "      <td>63</td>\n",
       "      <td>80988f09-91a3-4e1b-8e69-13551c53f318</td>\n",
       "    </tr>\n",
       "    <tr>\n",
       "      <th>3</th>\n",
       "      <td>f4372224-759f-43b3-bc83-ca6106bba1af</td>\n",
       "      <td>745bee4e-710c-4538-8df1-5c146e1092a6</td>\n",
       "      <td>bikes</td>\n",
       "      <td>True</td>\n",
       "      <td>47</td>\n",
       "      <td>5f79b402-655f-4d8e-8ff3-5ef05870e0ad</td>\n",
       "    </tr>\n",
       "    <tr>\n",
       "      <th>4</th>\n",
       "      <td>49d0edae-9091-41bb-a08d-ab1c66bd08d5</td>\n",
       "      <td>425b7a1a-b744-4c6b-898e-d424dd8cf18e</td>\n",
       "      <td>candy</td>\n",
       "      <td>False</td>\n",
       "      <td>73</td>\n",
       "      <td>58beb5d3-98f8-4077-a964-1f04f7cb11e5</td>\n",
       "    </tr>\n",
       "  </tbody>\n",
       "</table>\n",
       "</div>"
      ],
      "text/plain": [
       "                       origin_warehouse                     destination_store  \\\n",
       "0  d5566b15-b071-4acf-8e8e-c98433083b2d  50d33715-4c77-4dd9-8b9d-ff1ca372a2a2   \n",
       "1  c42f0de8-b4f0-4167-abd1-ae79e5e18eea  172eb8f3-1033-4fb6-b66b-d0df09df3161   \n",
       "2  b145f396-de9b-42f1-9cc9-f5b52c3a941c  65e4544d-42ae-4751-9580-bdcb90e5fcda   \n",
       "3  f4372224-759f-43b3-bc83-ca6106bba1af  745bee4e-710c-4538-8df1-5c146e1092a6   \n",
       "4  49d0edae-9091-41bb-a08d-ab1c66bd08d5  425b7a1a-b744-4c6b-898e-d424dd8cf18e   \n",
       "\n",
       "   product  on_time  product_quantity                     driver_identifier  \n",
       "0   lotion     True                59  d8da0460-cf39-4f38-9fff-6c9b4e344d8a  \n",
       "1  windows     True                28  293ccaec-6592-4f04-aae5-3e238fe62614  \n",
       "2     skis     True                63  80988f09-91a3-4e1b-8e69-13551c53f318  \n",
       "3    bikes     True                47  5f79b402-655f-4d8e-8ff3-5ef05870e0ad  \n",
       "4    candy    False                73  58beb5d3-98f8-4077-a964-1f04f7cb11e5  "
      ]
     },
     "execution_count": 25,
     "metadata": {},
     "output_type": "execute_result"
    }
   ],
   "source": [
    "df.head()"
   ]
  },
  {
   "cell_type": "code",
   "execution_count": 26,
   "id": "f528a276-eb69-449f-80f4-bf83e900c85d",
   "metadata": {},
   "outputs": [
    {
     "data": {
      "text/plain": [
       "45"
      ]
     },
     "execution_count": 26,
     "metadata": {},
     "output_type": "execute_result"
    }
   ],
   "source": [
    "df['product'].nunique()"
   ]
  },
  {
   "cell_type": "code",
   "execution_count": 27,
   "id": "6b984914-e0be-4574-aeae-9571219a8f45",
   "metadata": {},
   "outputs": [
    {
     "data": {
      "text/html": [
       "<div>\n",
       "<style scoped>\n",
       "    .dataframe tbody tr th:only-of-type {\n",
       "        vertical-align: middle;\n",
       "    }\n",
       "\n",
       "    .dataframe tbody tr th {\n",
       "        vertical-align: top;\n",
       "    }\n",
       "\n",
       "    .dataframe thead th {\n",
       "        text-align: right;\n",
       "    }\n",
       "</style>\n",
       "<table border=\"1\" class=\"dataframe\">\n",
       "  <thead>\n",
       "    <tr style=\"text-align: right;\">\n",
       "      <th></th>\n",
       "      <th>product_name</th>\n",
       "      <th>id</th>\n",
       "    </tr>\n",
       "  </thead>\n",
       "  <tbody>\n",
       "    <tr>\n",
       "      <th>0</th>\n",
       "      <td>lotion</td>\n",
       "      <td>1</td>\n",
       "    </tr>\n",
       "    <tr>\n",
       "      <th>1</th>\n",
       "      <td>windows</td>\n",
       "      <td>2</td>\n",
       "    </tr>\n",
       "    <tr>\n",
       "      <th>2</th>\n",
       "      <td>skis</td>\n",
       "      <td>3</td>\n",
       "    </tr>\n",
       "    <tr>\n",
       "      <th>3</th>\n",
       "      <td>bikes</td>\n",
       "      <td>4</td>\n",
       "    </tr>\n",
       "    <tr>\n",
       "      <th>4</th>\n",
       "      <td>candy</td>\n",
       "      <td>5</td>\n",
       "    </tr>\n",
       "  </tbody>\n",
       "</table>\n",
       "</div>"
      ],
      "text/plain": [
       "  product_name  id\n",
       "0       lotion   1\n",
       "1      windows   2\n",
       "2         skis   3\n",
       "3        bikes   4\n",
       "4        candy   5"
      ]
     },
     "execution_count": 27,
     "metadata": {},
     "output_type": "execute_result"
    }
   ],
   "source": [
    "df_product = pd.DataFrame({'product_name':df['product'].unique()})\n",
    "df_product['id'] = df_product.index + 1\n",
    "df_product.head()"
   ]
  },
  {
   "cell_type": "code",
   "execution_count": 28,
   "id": "41247912-91bb-4a74-848b-9e3ff3426b88",
   "metadata": {},
   "outputs": [
    {
     "data": {
      "text/html": [
       "<div>\n",
       "<style scoped>\n",
       "    .dataframe tbody tr th:only-of-type {\n",
       "        vertical-align: middle;\n",
       "    }\n",
       "\n",
       "    .dataframe tbody tr th {\n",
       "        vertical-align: top;\n",
       "    }\n",
       "\n",
       "    .dataframe thead th {\n",
       "        text-align: right;\n",
       "    }\n",
       "</style>\n",
       "<table border=\"1\" class=\"dataframe\">\n",
       "  <thead>\n",
       "    <tr style=\"text-align: right;\">\n",
       "      <th></th>\n",
       "      <th>origin_warehouse</th>\n",
       "      <th>destination_store</th>\n",
       "      <th>product</th>\n",
       "      <th>on_time</th>\n",
       "      <th>product_quantity</th>\n",
       "      <th>driver_identifier</th>\n",
       "      <th>product_name</th>\n",
       "      <th>id</th>\n",
       "    </tr>\n",
       "  </thead>\n",
       "  <tbody>\n",
       "    <tr>\n",
       "      <th>0</th>\n",
       "      <td>d5566b15-b071-4acf-8e8e-c98433083b2d</td>\n",
       "      <td>50d33715-4c77-4dd9-8b9d-ff1ca372a2a2</td>\n",
       "      <td>lotion</td>\n",
       "      <td>True</td>\n",
       "      <td>59</td>\n",
       "      <td>d8da0460-cf39-4f38-9fff-6c9b4e344d8a</td>\n",
       "      <td>lotion</td>\n",
       "      <td>1</td>\n",
       "    </tr>\n",
       "    <tr>\n",
       "      <th>1</th>\n",
       "      <td>c42f0de8-b4f0-4167-abd1-ae79e5e18eea</td>\n",
       "      <td>172eb8f3-1033-4fb6-b66b-d0df09df3161</td>\n",
       "      <td>windows</td>\n",
       "      <td>True</td>\n",
       "      <td>28</td>\n",
       "      <td>293ccaec-6592-4f04-aae5-3e238fe62614</td>\n",
       "      <td>windows</td>\n",
       "      <td>2</td>\n",
       "    </tr>\n",
       "    <tr>\n",
       "      <th>2</th>\n",
       "      <td>b145f396-de9b-42f1-9cc9-f5b52c3a941c</td>\n",
       "      <td>65e4544d-42ae-4751-9580-bdcb90e5fcda</td>\n",
       "      <td>skis</td>\n",
       "      <td>True</td>\n",
       "      <td>63</td>\n",
       "      <td>80988f09-91a3-4e1b-8e69-13551c53f318</td>\n",
       "      <td>skis</td>\n",
       "      <td>3</td>\n",
       "    </tr>\n",
       "    <tr>\n",
       "      <th>3</th>\n",
       "      <td>f4372224-759f-43b3-bc83-ca6106bba1af</td>\n",
       "      <td>745bee4e-710c-4538-8df1-5c146e1092a6</td>\n",
       "      <td>bikes</td>\n",
       "      <td>True</td>\n",
       "      <td>47</td>\n",
       "      <td>5f79b402-655f-4d8e-8ff3-5ef05870e0ad</td>\n",
       "      <td>bikes</td>\n",
       "      <td>4</td>\n",
       "    </tr>\n",
       "    <tr>\n",
       "      <th>4</th>\n",
       "      <td>49d0edae-9091-41bb-a08d-ab1c66bd08d5</td>\n",
       "      <td>425b7a1a-b744-4c6b-898e-d424dd8cf18e</td>\n",
       "      <td>candy</td>\n",
       "      <td>False</td>\n",
       "      <td>73</td>\n",
       "      <td>58beb5d3-98f8-4077-a964-1f04f7cb11e5</td>\n",
       "      <td>candy</td>\n",
       "      <td>5</td>\n",
       "    </tr>\n",
       "  </tbody>\n",
       "</table>\n",
       "</div>"
      ],
      "text/plain": [
       "                       origin_warehouse                     destination_store  \\\n",
       "0  d5566b15-b071-4acf-8e8e-c98433083b2d  50d33715-4c77-4dd9-8b9d-ff1ca372a2a2   \n",
       "1  c42f0de8-b4f0-4167-abd1-ae79e5e18eea  172eb8f3-1033-4fb6-b66b-d0df09df3161   \n",
       "2  b145f396-de9b-42f1-9cc9-f5b52c3a941c  65e4544d-42ae-4751-9580-bdcb90e5fcda   \n",
       "3  f4372224-759f-43b3-bc83-ca6106bba1af  745bee4e-710c-4538-8df1-5c146e1092a6   \n",
       "4  49d0edae-9091-41bb-a08d-ab1c66bd08d5  425b7a1a-b744-4c6b-898e-d424dd8cf18e   \n",
       "\n",
       "   product  on_time  product_quantity                     driver_identifier  \\\n",
       "0   lotion     True                59  d8da0460-cf39-4f38-9fff-6c9b4e344d8a   \n",
       "1  windows     True                28  293ccaec-6592-4f04-aae5-3e238fe62614   \n",
       "2     skis     True                63  80988f09-91a3-4e1b-8e69-13551c53f318   \n",
       "3    bikes     True                47  5f79b402-655f-4d8e-8ff3-5ef05870e0ad   \n",
       "4    candy    False                73  58beb5d3-98f8-4077-a964-1f04f7cb11e5   \n",
       "\n",
       "  product_name  id  \n",
       "0       lotion   1  \n",
       "1      windows   2  \n",
       "2         skis   3  \n",
       "3        bikes   4  \n",
       "4        candy   5  "
      ]
     },
     "execution_count": 28,
     "metadata": {},
     "output_type": "execute_result"
    }
   ],
   "source": [
    "df = pd.merge(df,df_product,how='inner',left_on='product',right_on='product_name')\n",
    "df.head()"
   ]
  },
  {
   "cell_type": "code",
   "execution_count": 29,
   "id": "7c72ecd4-2eaf-4eaa-a253-1359cc105f1f",
   "metadata": {},
   "outputs": [
    {
     "data": {
      "text/html": [
       "<div>\n",
       "<style scoped>\n",
       "    .dataframe tbody tr th:only-of-type {\n",
       "        vertical-align: middle;\n",
       "    }\n",
       "\n",
       "    .dataframe tbody tr th {\n",
       "        vertical-align: top;\n",
       "    }\n",
       "\n",
       "    .dataframe thead th {\n",
       "        text-align: right;\n",
       "    }\n",
       "</style>\n",
       "<table border=\"1\" class=\"dataframe\">\n",
       "  <thead>\n",
       "    <tr style=\"text-align: right;\">\n",
       "      <th></th>\n",
       "      <th>origin_warehouse</th>\n",
       "      <th>destination_store</th>\n",
       "      <th>product</th>\n",
       "      <th>on_time</th>\n",
       "      <th>product_quantity</th>\n",
       "      <th>driver_identifier</th>\n",
       "      <th>product_name</th>\n",
       "      <th>product_id</th>\n",
       "    </tr>\n",
       "  </thead>\n",
       "  <tbody>\n",
       "    <tr>\n",
       "      <th>0</th>\n",
       "      <td>d5566b15-b071-4acf-8e8e-c98433083b2d</td>\n",
       "      <td>50d33715-4c77-4dd9-8b9d-ff1ca372a2a2</td>\n",
       "      <td>lotion</td>\n",
       "      <td>True</td>\n",
       "      <td>59</td>\n",
       "      <td>d8da0460-cf39-4f38-9fff-6c9b4e344d8a</td>\n",
       "      <td>lotion</td>\n",
       "      <td>1</td>\n",
       "    </tr>\n",
       "    <tr>\n",
       "      <th>1</th>\n",
       "      <td>c42f0de8-b4f0-4167-abd1-ae79e5e18eea</td>\n",
       "      <td>172eb8f3-1033-4fb6-b66b-d0df09df3161</td>\n",
       "      <td>windows</td>\n",
       "      <td>True</td>\n",
       "      <td>28</td>\n",
       "      <td>293ccaec-6592-4f04-aae5-3e238fe62614</td>\n",
       "      <td>windows</td>\n",
       "      <td>2</td>\n",
       "    </tr>\n",
       "    <tr>\n",
       "      <th>2</th>\n",
       "      <td>b145f396-de9b-42f1-9cc9-f5b52c3a941c</td>\n",
       "      <td>65e4544d-42ae-4751-9580-bdcb90e5fcda</td>\n",
       "      <td>skis</td>\n",
       "      <td>True</td>\n",
       "      <td>63</td>\n",
       "      <td>80988f09-91a3-4e1b-8e69-13551c53f318</td>\n",
       "      <td>skis</td>\n",
       "      <td>3</td>\n",
       "    </tr>\n",
       "    <tr>\n",
       "      <th>3</th>\n",
       "      <td>f4372224-759f-43b3-bc83-ca6106bba1af</td>\n",
       "      <td>745bee4e-710c-4538-8df1-5c146e1092a6</td>\n",
       "      <td>bikes</td>\n",
       "      <td>True</td>\n",
       "      <td>47</td>\n",
       "      <td>5f79b402-655f-4d8e-8ff3-5ef05870e0ad</td>\n",
       "      <td>bikes</td>\n",
       "      <td>4</td>\n",
       "    </tr>\n",
       "    <tr>\n",
       "      <th>4</th>\n",
       "      <td>49d0edae-9091-41bb-a08d-ab1c66bd08d5</td>\n",
       "      <td>425b7a1a-b744-4c6b-898e-d424dd8cf18e</td>\n",
       "      <td>candy</td>\n",
       "      <td>False</td>\n",
       "      <td>73</td>\n",
       "      <td>58beb5d3-98f8-4077-a964-1f04f7cb11e5</td>\n",
       "      <td>candy</td>\n",
       "      <td>5</td>\n",
       "    </tr>\n",
       "  </tbody>\n",
       "</table>\n",
       "</div>"
      ],
      "text/plain": [
       "                       origin_warehouse                     destination_store  \\\n",
       "0  d5566b15-b071-4acf-8e8e-c98433083b2d  50d33715-4c77-4dd9-8b9d-ff1ca372a2a2   \n",
       "1  c42f0de8-b4f0-4167-abd1-ae79e5e18eea  172eb8f3-1033-4fb6-b66b-d0df09df3161   \n",
       "2  b145f396-de9b-42f1-9cc9-f5b52c3a941c  65e4544d-42ae-4751-9580-bdcb90e5fcda   \n",
       "3  f4372224-759f-43b3-bc83-ca6106bba1af  745bee4e-710c-4538-8df1-5c146e1092a6   \n",
       "4  49d0edae-9091-41bb-a08d-ab1c66bd08d5  425b7a1a-b744-4c6b-898e-d424dd8cf18e   \n",
       "\n",
       "   product  on_time  product_quantity                     driver_identifier  \\\n",
       "0   lotion     True                59  d8da0460-cf39-4f38-9fff-6c9b4e344d8a   \n",
       "1  windows     True                28  293ccaec-6592-4f04-aae5-3e238fe62614   \n",
       "2     skis     True                63  80988f09-91a3-4e1b-8e69-13551c53f318   \n",
       "3    bikes     True                47  5f79b402-655f-4d8e-8ff3-5ef05870e0ad   \n",
       "4    candy    False                73  58beb5d3-98f8-4077-a964-1f04f7cb11e5   \n",
       "\n",
       "  product_name  product_id  \n",
       "0       lotion           1  \n",
       "1      windows           2  \n",
       "2         skis           3  \n",
       "3        bikes           4  \n",
       "4        candy           5  "
      ]
     },
     "execution_count": 29,
     "metadata": {},
     "output_type": "execute_result"
    }
   ],
   "source": [
    "df = df.rename(columns={'id':'product_id'})\n",
    "df.head()"
   ]
  },
  {
   "cell_type": "code",
   "execution_count": 30,
   "id": "86ef4f57-7481-4503-a9b7-12638a08f0bd",
   "metadata": {},
   "outputs": [],
   "source": [
    "df = df[['origin_warehouse','destination_store','product_id','product',\t'on_time',\t'product_quantity',\t'driver_identifier']]\n",
    "df['id'] = df.index + 1"
   ]
  },
  {
   "cell_type": "code",
   "execution_count": 31,
   "id": "c76f4eb2-2805-4e7b-a73a-5c61fb75adcd",
   "metadata": {},
   "outputs": [
    {
     "data": {
      "text/html": [
       "<div>\n",
       "<style scoped>\n",
       "    .dataframe tbody tr th:only-of-type {\n",
       "        vertical-align: middle;\n",
       "    }\n",
       "\n",
       "    .dataframe tbody tr th {\n",
       "        vertical-align: top;\n",
       "    }\n",
       "\n",
       "    .dataframe thead th {\n",
       "        text-align: right;\n",
       "    }\n",
       "</style>\n",
       "<table border=\"1\" class=\"dataframe\">\n",
       "  <thead>\n",
       "    <tr style=\"text-align: right;\">\n",
       "      <th></th>\n",
       "      <th>id</th>\n",
       "      <th>origin_warehouse</th>\n",
       "      <th>destination_store</th>\n",
       "      <th>product_id</th>\n",
       "      <th>product</th>\n",
       "      <th>on_time</th>\n",
       "      <th>product_quantity</th>\n",
       "      <th>driver_identifier</th>\n",
       "    </tr>\n",
       "  </thead>\n",
       "  <tbody>\n",
       "    <tr>\n",
       "      <th>0</th>\n",
       "      <td>1</td>\n",
       "      <td>d5566b15-b071-4acf-8e8e-c98433083b2d</td>\n",
       "      <td>50d33715-4c77-4dd9-8b9d-ff1ca372a2a2</td>\n",
       "      <td>1</td>\n",
       "      <td>lotion</td>\n",
       "      <td>True</td>\n",
       "      <td>59</td>\n",
       "      <td>d8da0460-cf39-4f38-9fff-6c9b4e344d8a</td>\n",
       "    </tr>\n",
       "    <tr>\n",
       "      <th>1</th>\n",
       "      <td>2</td>\n",
       "      <td>c42f0de8-b4f0-4167-abd1-ae79e5e18eea</td>\n",
       "      <td>172eb8f3-1033-4fb6-b66b-d0df09df3161</td>\n",
       "      <td>2</td>\n",
       "      <td>windows</td>\n",
       "      <td>True</td>\n",
       "      <td>28</td>\n",
       "      <td>293ccaec-6592-4f04-aae5-3e238fe62614</td>\n",
       "    </tr>\n",
       "    <tr>\n",
       "      <th>2</th>\n",
       "      <td>3</td>\n",
       "      <td>b145f396-de9b-42f1-9cc9-f5b52c3a941c</td>\n",
       "      <td>65e4544d-42ae-4751-9580-bdcb90e5fcda</td>\n",
       "      <td>3</td>\n",
       "      <td>skis</td>\n",
       "      <td>True</td>\n",
       "      <td>63</td>\n",
       "      <td>80988f09-91a3-4e1b-8e69-13551c53f318</td>\n",
       "    </tr>\n",
       "    <tr>\n",
       "      <th>3</th>\n",
       "      <td>4</td>\n",
       "      <td>f4372224-759f-43b3-bc83-ca6106bba1af</td>\n",
       "      <td>745bee4e-710c-4538-8df1-5c146e1092a6</td>\n",
       "      <td>4</td>\n",
       "      <td>bikes</td>\n",
       "      <td>True</td>\n",
       "      <td>47</td>\n",
       "      <td>5f79b402-655f-4d8e-8ff3-5ef05870e0ad</td>\n",
       "    </tr>\n",
       "    <tr>\n",
       "      <th>4</th>\n",
       "      <td>5</td>\n",
       "      <td>49d0edae-9091-41bb-a08d-ab1c66bd08d5</td>\n",
       "      <td>425b7a1a-b744-4c6b-898e-d424dd8cf18e</td>\n",
       "      <td>5</td>\n",
       "      <td>candy</td>\n",
       "      <td>False</td>\n",
       "      <td>73</td>\n",
       "      <td>58beb5d3-98f8-4077-a964-1f04f7cb11e5</td>\n",
       "    </tr>\n",
       "  </tbody>\n",
       "</table>\n",
       "</div>"
      ],
      "text/plain": [
       "   id                      origin_warehouse  \\\n",
       "0   1  d5566b15-b071-4acf-8e8e-c98433083b2d   \n",
       "1   2  c42f0de8-b4f0-4167-abd1-ae79e5e18eea   \n",
       "2   3  b145f396-de9b-42f1-9cc9-f5b52c3a941c   \n",
       "3   4  f4372224-759f-43b3-bc83-ca6106bba1af   \n",
       "4   5  49d0edae-9091-41bb-a08d-ab1c66bd08d5   \n",
       "\n",
       "                      destination_store  product_id  product  on_time  \\\n",
       "0  50d33715-4c77-4dd9-8b9d-ff1ca372a2a2           1   lotion     True   \n",
       "1  172eb8f3-1033-4fb6-b66b-d0df09df3161           2  windows     True   \n",
       "2  65e4544d-42ae-4751-9580-bdcb90e5fcda           3     skis     True   \n",
       "3  745bee4e-710c-4538-8df1-5c146e1092a6           4    bikes     True   \n",
       "4  425b7a1a-b744-4c6b-898e-d424dd8cf18e           5    candy    False   \n",
       "\n",
       "   product_quantity                     driver_identifier  \n",
       "0                59  d8da0460-cf39-4f38-9fff-6c9b4e344d8a  \n",
       "1                28  293ccaec-6592-4f04-aae5-3e238fe62614  \n",
       "2                63  80988f09-91a3-4e1b-8e69-13551c53f318  \n",
       "3                47  5f79b402-655f-4d8e-8ff3-5ef05870e0ad  \n",
       "4                73  58beb5d3-98f8-4077-a964-1f04f7cb11e5  "
      ]
     },
     "execution_count": 31,
     "metadata": {},
     "output_type": "execute_result"
    }
   ],
   "source": [
    "df = df[['id','origin_warehouse','destination_store','product_id','product',\t'on_time',\t'product_quantity',\t'driver_identifier']]\n",
    "df.head()"
   ]
  },
  {
   "cell_type": "code",
   "execution_count": 32,
   "id": "989a56ce-1f69-4f9c-b447-5df4a874ce0a",
   "metadata": {},
   "outputs": [
    {
     "name": "stdout",
     "output_type": "stream",
     "text": [
      "['id', 'name']\n"
     ]
    }
   ],
   "source": [
    "cur.execute(\"SELECT * FROM product\")\n",
    "column_names = [description[0] for description in cur.description]\n",
    "\n",
    "print(column_names)"
   ]
  },
  {
   "cell_type": "code",
   "execution_count": 33,
   "id": "661b6b84-b911-4648-aa55-59cd8e3bde7c",
   "metadata": {},
   "outputs": [
    {
     "data": {
      "text/html": [
       "<div>\n",
       "<style scoped>\n",
       "    .dataframe tbody tr th:only-of-type {\n",
       "        vertical-align: middle;\n",
       "    }\n",
       "\n",
       "    .dataframe tbody tr th {\n",
       "        vertical-align: top;\n",
       "    }\n",
       "\n",
       "    .dataframe thead th {\n",
       "        text-align: right;\n",
       "    }\n",
       "</style>\n",
       "<table border=\"1\" class=\"dataframe\">\n",
       "  <thead>\n",
       "    <tr style=\"text-align: right;\">\n",
       "      <th></th>\n",
       "      <th>product_name</th>\n",
       "      <th>id</th>\n",
       "    </tr>\n",
       "  </thead>\n",
       "  <tbody>\n",
       "    <tr>\n",
       "      <th>0</th>\n",
       "      <td>lotion</td>\n",
       "      <td>1</td>\n",
       "    </tr>\n",
       "    <tr>\n",
       "      <th>1</th>\n",
       "      <td>windows</td>\n",
       "      <td>2</td>\n",
       "    </tr>\n",
       "    <tr>\n",
       "      <th>2</th>\n",
       "      <td>skis</td>\n",
       "      <td>3</td>\n",
       "    </tr>\n",
       "    <tr>\n",
       "      <th>3</th>\n",
       "      <td>bikes</td>\n",
       "      <td>4</td>\n",
       "    </tr>\n",
       "    <tr>\n",
       "      <th>4</th>\n",
       "      <td>candy</td>\n",
       "      <td>5</td>\n",
       "    </tr>\n",
       "  </tbody>\n",
       "</table>\n",
       "</div>"
      ],
      "text/plain": [
       "  product_name  id\n",
       "0       lotion   1\n",
       "1      windows   2\n",
       "2         skis   3\n",
       "3        bikes   4\n",
       "4        candy   5"
      ]
     },
     "execution_count": 33,
     "metadata": {},
     "output_type": "execute_result"
    }
   ],
   "source": [
    "df_product.head()"
   ]
  },
  {
   "cell_type": "code",
   "execution_count": 54,
   "id": "7cc2c36e-0580-4a9f-9076-6b380561d001",
   "metadata": {},
   "outputs": [],
   "source": [
    "for _, i in df_product.iterrows():\n",
    "    cur.execute(f\"insert into product (id,name) values ({i['id']},'{i['product_name']}')\")"
   ]
  },
  {
   "cell_type": "code",
   "execution_count": 44,
   "id": "468c4622-0122-4280-bdca-19d49cbf7a33",
   "metadata": {},
   "outputs": [
    {
     "name": "stdout",
     "output_type": "stream",
     "text": [
      "(1, 'lotion')\n",
      "(2, 'windows')\n"
     ]
    }
   ],
   "source": [
    "r = cur.execute(\"select * from product\").fetchall()\n",
    "for i in r[:2]:\n",
    "    print(i)"
   ]
  },
  {
   "cell_type": "code",
   "execution_count": 35,
   "id": "8325c6c1-d1df-4505-b588-2888a49494f4",
   "metadata": {},
   "outputs": [],
   "source": [
    "con.commit()"
   ]
  },
  {
   "cell_type": "code",
   "execution_count": 45,
   "id": "f739e095-525e-4008-bb18-3a8a7c1af4e5",
   "metadata": {},
   "outputs": [
    {
     "data": {
      "text/plain": [
       "45"
      ]
     },
     "execution_count": 45,
     "metadata": {},
     "output_type": "execute_result"
    }
   ],
   "source": [
    "len(r)"
   ]
  },
  {
   "cell_type": "code",
   "execution_count": 36,
   "id": "9bbdef7e-3ada-4dc4-acb7-5cc720e479d6",
   "metadata": {},
   "outputs": [
    {
     "name": "stdout",
     "output_type": "stream",
     "text": [
      "['id', 'product_id', 'quantity', 'origin', 'destination']\n"
     ]
    }
   ],
   "source": [
    "cur.execute(\"SELECT * FROM shipment\")\n",
    "column_names = [description[0] for description in cur.description]\n",
    "\n",
    "print(column_names)"
   ]
  },
  {
   "cell_type": "code",
   "execution_count": 37,
   "id": "88e454d8-ef77-4be5-a4a9-cfede0218e25",
   "metadata": {},
   "outputs": [
    {
     "data": {
      "text/html": [
       "<div>\n",
       "<style scoped>\n",
       "    .dataframe tbody tr th:only-of-type {\n",
       "        vertical-align: middle;\n",
       "    }\n",
       "\n",
       "    .dataframe tbody tr th {\n",
       "        vertical-align: top;\n",
       "    }\n",
       "\n",
       "    .dataframe thead th {\n",
       "        text-align: right;\n",
       "    }\n",
       "</style>\n",
       "<table border=\"1\" class=\"dataframe\">\n",
       "  <thead>\n",
       "    <tr style=\"text-align: right;\">\n",
       "      <th></th>\n",
       "      <th>id</th>\n",
       "      <th>origin_warehouse</th>\n",
       "      <th>destination_store</th>\n",
       "      <th>product_id</th>\n",
       "      <th>product</th>\n",
       "      <th>on_time</th>\n",
       "      <th>product_quantity</th>\n",
       "      <th>driver_identifier</th>\n",
       "    </tr>\n",
       "  </thead>\n",
       "  <tbody>\n",
       "    <tr>\n",
       "      <th>0</th>\n",
       "      <td>1</td>\n",
       "      <td>d5566b15-b071-4acf-8e8e-c98433083b2d</td>\n",
       "      <td>50d33715-4c77-4dd9-8b9d-ff1ca372a2a2</td>\n",
       "      <td>1</td>\n",
       "      <td>lotion</td>\n",
       "      <td>True</td>\n",
       "      <td>59</td>\n",
       "      <td>d8da0460-cf39-4f38-9fff-6c9b4e344d8a</td>\n",
       "    </tr>\n",
       "    <tr>\n",
       "      <th>1</th>\n",
       "      <td>2</td>\n",
       "      <td>c42f0de8-b4f0-4167-abd1-ae79e5e18eea</td>\n",
       "      <td>172eb8f3-1033-4fb6-b66b-d0df09df3161</td>\n",
       "      <td>2</td>\n",
       "      <td>windows</td>\n",
       "      <td>True</td>\n",
       "      <td>28</td>\n",
       "      <td>293ccaec-6592-4f04-aae5-3e238fe62614</td>\n",
       "    </tr>\n",
       "    <tr>\n",
       "      <th>2</th>\n",
       "      <td>3</td>\n",
       "      <td>b145f396-de9b-42f1-9cc9-f5b52c3a941c</td>\n",
       "      <td>65e4544d-42ae-4751-9580-bdcb90e5fcda</td>\n",
       "      <td>3</td>\n",
       "      <td>skis</td>\n",
       "      <td>True</td>\n",
       "      <td>63</td>\n",
       "      <td>80988f09-91a3-4e1b-8e69-13551c53f318</td>\n",
       "    </tr>\n",
       "    <tr>\n",
       "      <th>3</th>\n",
       "      <td>4</td>\n",
       "      <td>f4372224-759f-43b3-bc83-ca6106bba1af</td>\n",
       "      <td>745bee4e-710c-4538-8df1-5c146e1092a6</td>\n",
       "      <td>4</td>\n",
       "      <td>bikes</td>\n",
       "      <td>True</td>\n",
       "      <td>47</td>\n",
       "      <td>5f79b402-655f-4d8e-8ff3-5ef05870e0ad</td>\n",
       "    </tr>\n",
       "    <tr>\n",
       "      <th>4</th>\n",
       "      <td>5</td>\n",
       "      <td>49d0edae-9091-41bb-a08d-ab1c66bd08d5</td>\n",
       "      <td>425b7a1a-b744-4c6b-898e-d424dd8cf18e</td>\n",
       "      <td>5</td>\n",
       "      <td>candy</td>\n",
       "      <td>False</td>\n",
       "      <td>73</td>\n",
       "      <td>58beb5d3-98f8-4077-a964-1f04f7cb11e5</td>\n",
       "    </tr>\n",
       "  </tbody>\n",
       "</table>\n",
       "</div>"
      ],
      "text/plain": [
       "   id                      origin_warehouse  \\\n",
       "0   1  d5566b15-b071-4acf-8e8e-c98433083b2d   \n",
       "1   2  c42f0de8-b4f0-4167-abd1-ae79e5e18eea   \n",
       "2   3  b145f396-de9b-42f1-9cc9-f5b52c3a941c   \n",
       "3   4  f4372224-759f-43b3-bc83-ca6106bba1af   \n",
       "4   5  49d0edae-9091-41bb-a08d-ab1c66bd08d5   \n",
       "\n",
       "                      destination_store  product_id  product  on_time  \\\n",
       "0  50d33715-4c77-4dd9-8b9d-ff1ca372a2a2           1   lotion     True   \n",
       "1  172eb8f3-1033-4fb6-b66b-d0df09df3161           2  windows     True   \n",
       "2  65e4544d-42ae-4751-9580-bdcb90e5fcda           3     skis     True   \n",
       "3  745bee4e-710c-4538-8df1-5c146e1092a6           4    bikes     True   \n",
       "4  425b7a1a-b744-4c6b-898e-d424dd8cf18e           5    candy    False   \n",
       "\n",
       "   product_quantity                     driver_identifier  \n",
       "0                59  d8da0460-cf39-4f38-9fff-6c9b4e344d8a  \n",
       "1                28  293ccaec-6592-4f04-aae5-3e238fe62614  \n",
       "2                63  80988f09-91a3-4e1b-8e69-13551c53f318  \n",
       "3                47  5f79b402-655f-4d8e-8ff3-5ef05870e0ad  \n",
       "4                73  58beb5d3-98f8-4077-a964-1f04f7cb11e5  "
      ]
     },
     "execution_count": 37,
     "metadata": {},
     "output_type": "execute_result"
    }
   ],
   "source": [
    "df.head()"
   ]
  },
  {
   "cell_type": "code",
   "execution_count": 38,
   "id": "008ff85e-ee6a-4bd3-baa5-f696417c582d",
   "metadata": {},
   "outputs": [],
   "source": [
    "for _, i in df.iterrows():\n",
    "    cur.execute(f\"insert into shipment values ({i['id']},{i['product_id']},{i['product_quantity']},'{i['origin_warehouse']}','{i['destination_store']}')\")"
   ]
  },
  {
   "cell_type": "code",
   "execution_count": 39,
   "id": "f4d5b885-073e-41f6-a434-b7af7eefab11",
   "metadata": {},
   "outputs": [
    {
     "name": "stdout",
     "output_type": "stream",
     "text": [
      "(1, 1, 59, 'd5566b15-b071-4acf-8e8e-c98433083b2d', '50d33715-4c77-4dd9-8b9d-ff1ca372a2a2')\n",
      "(2, 2, 28, 'c42f0de8-b4f0-4167-abd1-ae79e5e18eea', '172eb8f3-1033-4fb6-b66b-d0df09df3161')\n"
     ]
    }
   ],
   "source": [
    "r = cur.execute(\"select * from shipment\").fetchall()\n",
    "for i in r[:2]:\n",
    "    print(i)"
   ]
  },
  {
   "cell_type": "code",
   "execution_count": 40,
   "id": "17c4efd9-04ce-437c-aa73-6cd317b5e494",
   "metadata": {},
   "outputs": [],
   "source": [
    "con.commit()"
   ]
  },
  {
   "cell_type": "code",
   "execution_count": 41,
   "id": "f2fcf50f-a0e1-4c64-8618-3e438ef5f093",
   "metadata": {},
   "outputs": [],
   "source": [
    "cur.close()\n",
    "con.close()"
   ]
  },
  {
   "cell_type": "code",
   "execution_count": 42,
   "id": "3fc9ada0-c41e-4eae-aa8d-fb90d2b1017b",
   "metadata": {},
   "outputs": [
    {
     "data": {
      "text/plain": [
       "154"
      ]
     },
     "execution_count": 42,
     "metadata": {},
     "output_type": "execute_result"
    }
   ],
   "source": [
    "len(r)"
   ]
  }
 ],
 "metadata": {
  "kernelspec": {
   "display_name": "Python 3 (ipykernel)",
   "language": "python",
   "name": "python3"
  },
  "language_info": {
   "codemirror_mode": {
    "name": "ipython",
    "version": 3
   },
   "file_extension": ".py",
   "mimetype": "text/x-python",
   "name": "python",
   "nbconvert_exporter": "python",
   "pygments_lexer": "ipython3",
   "version": "3.12.7"
  }
 },
 "nbformat": 4,
 "nbformat_minor": 5
}
